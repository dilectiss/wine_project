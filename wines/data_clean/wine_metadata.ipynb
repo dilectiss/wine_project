{
 "cells": [
  {
   "cell_type": "markdown",
   "metadata": {},
   "source": [
    "# wine_metadata"
   ]
  },
  {
   "cell_type": "code",
   "execution_count": null,
   "metadata": {},
   "outputs": [],
   "source": [
    "urls = ['https://www.wine-searcher.com/critics-36-vinous+antonio+galloni',\n",
    "       'https://www.wine-searcher.com/critics-1-jancis+robinson',\n",
    "       'https://www.wine-searcher.com/critics-27-robert+parker+the+wine+advocate',\n",
    "       'https://www.wine-searcher.com/critics-14-bettane+et+desseauve',\n",
    "       'https://www.wine-searcher.com/critics-7-bob+campbell']"
   ]
  },
  {
   "cell_type": "code",
   "execution_count": null,
   "metadata": {},
   "outputs": [],
   "source": [
    "Scrapy version: 1.5.1\n",
    "Python version: 3.6.7\n",
    "Data downloaded: 09.-13.12.2018"
   ]
  },
  {
   "cell_type": "code",
   "execution_count": null,
   "metadata": {},
   "outputs": [],
   "source": []
  }
 ],
 "metadata": {
  "kernelspec": {
   "display_name": "Python 3",
   "language": "python",
   "name": "python3"
  },
  "language_info": {
   "codemirror_mode": {
    "name": "ipython",
    "version": 3
   },
   "file_extension": ".py",
   "mimetype": "text/x-python",
   "name": "python",
   "nbconvert_exporter": "python",
   "pygments_lexer": "ipython3",
   "version": "3.6.8"
  }
 },
 "nbformat": 4,
 "nbformat_minor": 2
}
