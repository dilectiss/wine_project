{
 "cells": [
  {
   "cell_type": "code",
   "execution_count": 2,
   "metadata": {},
   "outputs": [],
   "source": [
    "# -*- coding: utf-8 -*-\n",
    "# crawler for the wines table\n",
    "#\n",
    "# to scrape wines from another critic page:\n",
    "# generate a new spider with the corresponding urls\n",
    "#\n",
    "# For detailed documentation of scrapy functions:\n",
    "# https://docs.scrapy.org/en/latest/topics/spiders.html"
   ]
  },
  {
   "cell_type": "code",
   "execution_count": 4,
   "metadata": {},
   "outputs": [],
   "source": [
    "import scrapy\n",
    "from scrapy.http.request import Request\n",
    "from urllib.parse import urljoin\n",
    "from scrapy.spiders import Spider"
   ]
  },
  {
   "cell_type": "code",
   "execution_count": 5,
   "metadata": {},
   "outputs": [],
   "source": [
    "class ProjectSpider(Spider):\n",
    "  name = 'wine_project'\n",
    "  rotate_user_agent = True"
   ]
  },
  {
   "cell_type": "code",
   "execution_count": 6,
   "metadata": {},
   "outputs": [],
   "source": [
    "# To craw a critic with initials 'JK':\n",
    "#\n",
    "# Change the class name 'WineXSpider' to\n",
    "# 'WineJKSpider' \n",
    "#\n",
    "# Change name = 'wine_x' to 'wine_jk'"
   ]
  },
  {
   "cell_type": "code",
   "execution_count": 7,
   "metadata": {},
   "outputs": [],
   "source": [
    "# Set the start_url to target critic page\n",
    "# match the end of url to the starting page\n",
    "\n",
    "class WineXSpider(scrapy.Spider):\n",
    "    name = 'wine_x'\n",
    "    \"\"\"\n",
    "    This is the name of the spider used to execute the scrpy crawl function\n",
    "    \"\"\"\n",
    "    allowed_domains = ['www.wine-searcher.com']\n",
    "    \"\"\"\n",
    "    This lists the accessible domains for the spider\n",
    "    \"\"\"\n",
    "    start_urls = ['http://www.wine-searcher.com/critic-x-url/start_page',]\n",
    "    \"\"\"\n",
    "    The starting url of the spider\n",
    "    \"\"\""
   ]
  },
  {
   "cell_type": "code",
   "execution_count": 8,
   "metadata": {},
   "outputs": [],
   "source": [
    "# For iterating through the pages of tables\n",
    "#\n",
    "# The no. of pages to be scraped is adjusted by\n",
    "# changing the value of range(includisve, exclusive)\n",
    "#\n",
    "# Replace the url as per the start_url above\n",
    "# excluding 'start_page', which is here a dynamic index {0}\n",
    "#\n",
    "# For efficient scraping, do not set range to be\n",
    "# above 100 for any one execution"
   ]
  },
  {
   "cell_type": "code",
   "execution_count": 9,
   "metadata": {},
   "outputs": [],
   "source": [
    "    def start_requests(self):\n",
    "        for i in range(start,end):\n",
    "            \"\"\"\n",
    "            Parameters\n",
    "            ----------\n",
    "            start: int\n",
    "                the desired starting page\n",
    "            end: int\n",
    "                the page after the desired last page\n",
    "            \"\"\"\n",
    "            yield Request(\n",
    "                url='http://www.wine-searcher.com/critic-x-url/{0}'.format((i-1)*25+1),\n",
    "                callback=self.parse)\n",
    "            \"\"\"\n",
    "            The webpage is formatted such that the index {0} is the index of the WINES\n",
    "            on the particular page. \n",
    "            The url here is formatted so that the input page number can be converted\n",
    "            to yield the desired page. \n",
    "            The final index replacing {0} will be (i-1) * 25 + 1, \n",
    "            which indicates the index of the first WINE on page i.\n",
    "            \"\"\""
   ]
  },
  {
   "cell_type": "code",
   "execution_count": 10,
   "metadata": {},
   "outputs": [],
   "source": [
    "# This functino traverses through each of the wine pages\n",
    "# for the given critic page\n",
    "#\n",
    "# IMPORTANT: Due to inconsistencies in webpage design\n",
    "# 'div[3]' here must change to 'div[1]' for the\n",
    "# first page of each critic!"
   ]
  },
  {
   "cell_type": "code",
   "execution_count": null,
   "metadata": {},
   "outputs": [],
   "source": [
    "    def parse(self, response):\n",
    "        wine = response.xpath('//*[@id=\"winesortlist\"]/div[3]/table/tbody/tr/td[1]/a//@href').extract()\n",
    "        \"\"\"\n",
    "        This xpath is the location of the RATINGS TABLE on the CRITIC PAGE of the website.\n",
    "        Each element in the RATINGS TABLE links to the corresponding WINE PAGE.\n",
    "        The list can then be traversed to allow access to each individual WINE PAGE.\n",
    "        Due to inconsistencies in webpage design,\n",
    "        'div[3]' here must be changed to 'div[1]' for the FRIST PAGE of each critic.\n",
    "        \"\"\"\n",
    "        for w in wine:\n",
    "            wine_url = urljoin(response.url, w)\n",
    "            yield scrapy.Request(\n",
    "                wine_url, callback=self.parse_wine)"
   ]
  },
  {
   "cell_type": "code",
   "execution_count": null,
   "metadata": {},
   "outputs": [],
   "source": [
    "# this scrapes the parameters of each wine\n",
    "    def parse_wine(self, response):\n",
    "        for row in response.xpath('//*[@id=\"tab\"]/div/div/div[1]/div'):\n",
    "            yield {\n",
    "                'name':row.xpath('//*[@id=\"top_header\"]/span[2]//text()').extract(),\n",
    "                'vintage':row.xpath('//*[@id=\"top_header\"]/span[1]//text()').extract(),\n",
    "                'avg_price':row.xpath('div[2]/span[2]/b//text()').extract(),\n",
    "                'producer':row.xpath('div[5]/span[2]/a//text()').extract(),\n",
    "                'region/appellation':row.xpath('div[6]/span[2]/a[1]//text()').extract(),\n",
    "                'country':row.xpath('div[6]/span[2]/a//text()')[-1].extract(),\n",
    "                'blend':row.xpath('div[7]/span[2]/a//text()').extract(),\n",
    "                'pairing':row.xpath('div[8]/div[2]/span[2]/a//text()').extract(),\n",
    "                'style':row.xpath('div[9]/div[2]/a//text()').extract(),\n",
    "                'alcohol':row.xpath('div[10]/div/b//text()').extract(),\n",
    "            }\n",
    "            \"\"\"\n",
    "            Inside the WINE PAGE, download the information from the mentioned ten parameters,\n",
    "            as per the xpath of the html file of each WINE PAGE.\n",
    "            \"\"\""
   ]
  }
 ],
 "metadata": {
  "kernelspec": {
   "display_name": "Python 3",
   "language": "python",
   "name": "python3"
  },
  "language_info": {
   "codemirror_mode": {
    "name": "ipython",
    "version": 3
   },
   "file_extension": ".py",
   "mimetype": "text/x-python",
   "name": "python",
   "nbconvert_exporter": "python",
   "pygments_lexer": "ipython3",
   "version": "3.6.8"
  }
 },
 "nbformat": 4,
 "nbformat_minor": 2
}
